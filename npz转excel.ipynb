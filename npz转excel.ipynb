{
 "cells": [
  {
   "cell_type": "code",
   "execution_count": null,
   "id": "initial_id",
   "metadata": {
    "collapsed": true
   },
   "outputs": [],
   "source": "#16992个[307,3]"
  },
  {
   "metadata": {
    "ExecuteTime": {
     "end_time": "2024-10-25T13:40:40.291438Z",
     "start_time": "2024-10-25T11:35:32.016598Z"
    }
   },
   "cell_type": "code",
   "source": [
    "import numpy as np\n",
    "import pandas as pd\n",
    "\n",
    "# 加载 npz 文件\n",
    "data = np.load('F:/AAA/STGODE/data/PEMS04/PEMS04.npz')\n",
    "\n",
    "# 创建一个 Pandas Excel writer 使用 XlsxWriter 作为引擎\n",
    "with pd.ExcelWriter('F:/AAA/STGODE/data/PEMS04/PEMS04.xlsx', engine='xlsxwriter') as writer:\n",
    "    # 遍历 npz 文件中的每个数组\n",
    "    for arr_name in data:\n",
    "        # 获取数组的形状\n",
    "        shape = data[arr_name].shape\n",
    "        \n",
    "        # 如果数组是三维的，我们需要为每个“层”创建一个工作表\n",
    "        if len(shape) == 3:\n",
    "            for i in range(shape[0]):\n",
    "                # 选择三维数组的一个“层”\n",
    "                layer = data[arr_name][i, :, :]\n",
    "                # 将这个“层”转换为 DataFrame\n",
    "                df_layer = pd.DataFrame(layer)\n",
    "                # 将 DataFrame 保存到一个单独的工作表，名称为 arr_name + \"_layer\" + i\n",
    "                df_layer.to_excel(writer, sheet_name=f'{arr_name}_layer{i}', index=False)\n",
    "        else:\n",
    "            # 如果数组不是三维的，直接转换为 DataFrame 并保存\n",
    "            df = pd.DataFrame(data[arr_name])\n",
    "            df.to_excel(writer, sheet_name=arr_name, index=False)"
   ],
   "id": "a45d98fcd8458d4b",
   "outputs": [],
   "execution_count": 11
  },
  {
   "metadata": {},
   "cell_type": "code",
   "outputs": [],
   "execution_count": null,
   "source": "#[16992,921,1]",
   "id": "1873921a6d68348b"
  },
  {
   "metadata": {
    "ExecuteTime": {
     "end_time": "2024-10-25T08:29:33.630716Z",
     "start_time": "2024-10-25T08:26:27.416198Z"
    }
   },
   "cell_type": "code",
   "source": [
    "import numpy as np\n",
    "import pandas as pd\n",
    "\n",
    "# 加载 npz 文件\n",
    "data = np.load('F:/AAA/STGODE/data/PEMS04/PEMS04.npz')\n",
    "\n",
    "# 获取数组\n",
    "array_data = data['data']\n",
    "\n",
    "# 将三维数组转换为二维数组\n",
    "num_samples = array_data.shape[0]\n",
    "num_features = array_data.shape[1] * array_data.shape[2]\n",
    "\n",
    "# 将数据重新整形为 (num_samples, num_features)\n",
    "reshaped_data = array_data.reshape(num_samples, num_features)\n",
    "\n",
    "# 创建 DataFrame\n",
    "df = pd.DataFrame(reshaped_data)\n",
    "\n",
    "# 保存为 Excel 文件\n",
    "df.to_excel('F:/AAA/STGODE/data/PEMS04/output.xlsx', index=False)\n",
    "\n",
    "# 显示前几行数据\n",
    "print(df.head())"
   ],
   "id": "b448208a3108c469",
   "outputs": [
    {
     "name": "stdout",
     "output_type": "stream",
     "text": [
      "     0       1     2     3       4     5      6       7     8     9    ...  \\\n",
      "0   62.0  0.0077  67.9  56.0  0.0112  68.4   90.0  0.0143  68.2  32.0  ...   \n",
      "1   61.0  0.0074  67.3  40.0  0.0080  68.6   94.0  0.0156  67.8  25.0  ...   \n",
      "2   71.0  0.0093  68.4  28.0  0.0068  67.4   79.0  0.0122  68.7  36.0  ...   \n",
      "3   86.0  0.0112  67.8  47.0  0.0089  69.5   94.0  0.0148  68.9  46.0  ...   \n",
      "4  103.0  0.0144  67.4  36.0  0.0081  68.1  154.0  0.0258  67.3  68.0  ...   \n",
      "\n",
      "    911    912     913   914   915     916   917    918     919   920  \n",
      "0  68.6   56.0  0.0098  67.4  48.0  0.0078  69.5   38.0  0.0094  68.2  \n",
      "1  68.7   51.0  0.0094  66.0  30.0  0.0050  69.1   35.0  0.0085  68.8  \n",
      "2  68.3   67.0  0.0117  66.7  31.0  0.0053  68.8   45.0  0.0111  69.5  \n",
      "3  68.6  126.0  0.0207  67.8  64.0  0.0111  68.5   81.0  0.0199  68.8  \n",
      "4  68.1  200.0  0.0335  67.9  63.0  0.0106  67.9  104.0  0.0260  68.7  \n",
      "\n",
      "[5 rows x 921 columns]\n"
     ]
    }
   ],
   "execution_count": 4
  },
  {
   "metadata": {},
   "cell_type": "code",
   "outputs": [],
   "execution_count": null,
   "source": "#[16992,307,1]",
   "id": "23018cf9fbfad4dc"
  },
  {
   "metadata": {
    "ExecuteTime": {
     "end_time": "2024-10-25T08:55:45.425929Z",
     "start_time": "2024-10-25T08:55:42.163180Z"
    }
   },
   "cell_type": "code",
   "source": [
    "import numpy as np\n",
    "\n",
    "# 加载 npz 文件\n",
    "data = np.load('F:/AAA/STGODE/data/PEMS04/PEMS04.npz')\n",
    "\n",
    "# 获取数组\n",
    "array_data = data['data']\n",
    "\n",
    "# 选择每个 307x3 切片的第一个列\n",
    "array_data_first_column = array_data[:, :, 0]\n",
    "\n",
    "# 现在 array_data_first_column 的形状是 (16992, 307, 1)\n",
    "print(array_data_first_column.shape)\n",
    "\n",
    "# 保存到新的 npz 文件\n",
    "np.savez('output_data.npz', data=array_data_first_column)\n",
    "\n",
    "# 如果你想要将这个数组保存为 CSV 文件\n",
    "# 首先，我们需要将其转换为二维数组\n",
    "reshaped_data = array_data_first_column.reshape(16992, 307)\n",
    "\n",
    "# 创建 DataFrame\n",
    "df = pd.DataFrame(reshaped_data)\n",
    "\n",
    "# 保存为 CSV 文件\n",
    "df.to_csv('F:/AAA/STGODE/data/PEMS04/output222.csv', index=False)"
   ],
   "id": "85e8100ad5cc2df9",
   "outputs": [
    {
     "name": "stdout",
     "output_type": "stream",
     "text": [
      "(16992, 307)\n"
     ]
    }
   ],
   "execution_count": 5
  },
  {
   "metadata": {},
   "cell_type": "code",
   "outputs": [],
   "execution_count": null,
   "source": "#查看内容",
   "id": "d5f2d852a54117e1"
  },
  {
   "metadata": {
    "ExecuteTime": {
     "end_time": "2024-11-05T12:25:55.802373Z",
     "start_time": "2024-11-05T12:25:55.026198Z"
    }
   },
   "cell_type": "code",
   "source": [
    "import numpy as np\n",
    "\n",
    "# 替换为你的 .npy 文件的路径\n",
    "file_path = 'F:/AAA/STGODE/data/EIA24/EIA24/spatial_distance.npy'\n",
    "\n",
    "# 使用 numpy 的 load 函数来加载 .npy 文件\n",
    "array_data = np.load(file_path)\n",
    "\n",
    "# 打印数组的内容\n",
    "print(array_data)"
   ],
   "id": "f7cd8bbc51612fed",
   "outputs": [
    {
     "name": "stdout",
     "output_type": "stream",
     "text": [
      "<numpy.lib.npyio.NpzFile object at 0x0000024FFBE48AF0>\n"
     ]
    }
   ],
   "execution_count": 12
  },
  {
   "metadata": {},
   "cell_type": "code",
   "outputs": [],
   "execution_count": null,
   "source": "",
   "id": "f162e21c72a91025"
  },
  {
   "metadata": {
    "ExecuteTime": {
     "end_time": "2024-11-05T12:23:48.581323Z",
     "start_time": "2024-11-05T12:23:48.564234Z"
    }
   },
   "cell_type": "code",
   "source": "",
   "id": "1f6c0194e148715c",
   "outputs": [],
   "execution_count": null
  },
  {
   "metadata": {},
   "cell_type": "code",
   "outputs": [],
   "execution_count": null,
   "source": "",
   "id": "3e2c663604be6456"
  }
 ],
 "metadata": {
  "kernelspec": {
   "display_name": "Python 3",
   "language": "python",
   "name": "python3"
  },
  "language_info": {
   "codemirror_mode": {
    "name": "ipython",
    "version": 2
   },
   "file_extension": ".py",
   "mimetype": "text/x-python",
   "name": "python",
   "nbconvert_exporter": "python",
   "pygments_lexer": "ipython2",
   "version": "2.7.6"
  }
 },
 "nbformat": 4,
 "nbformat_minor": 5
}
