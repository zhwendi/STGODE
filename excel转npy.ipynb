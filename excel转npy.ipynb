{
 "cells": [
  {
   "metadata": {},
   "cell_type": "code",
   "outputs": [],
   "execution_count": null,
   "source": "",
   "id": "c5ba8c72a9aaf020"
  },
  {
   "metadata": {
    "ExecuteTime": {
     "end_time": "2024-10-20T13:41:06.532426Z",
     "start_time": "2024-10-20T13:40:31.824684Z"
    }
   },
   "cell_type": "code",
   "outputs": [
    {
     "data": {
      "text/plain": [
       "(50736, 13)"
      ]
     },
     "execution_count": 1,
     "metadata": {},
     "output_type": "execute_result"
    }
   ],
   "execution_count": 1,
   "source": [
    "import numpy as np\n",
    "import pandas as pd\n",
    "\n",
    "# 步骤1: 读取CSV文件\n",
    "csv_file_path = 'F:/AAA/STGODE/data/EIA24/Filtered_EIA24.xlsx'\n",
    "df = pd.read_excel(csv_file_path)\n",
    "\n",
    "# 假设CSV文件的结构是每一行都代表一个时间点的所有节点的数据，\n",
    "# 且每个节点的数据由多个特征组成。需要你提供节点数和特征数。\n",
    "\n",
    "# 只保留后13列\n",
    "df = df.iloc[:, -13:]\n",
    "\n",
    "# 步骤2: 确定维度大小\n",
    "num_times = len(df)  # 时间点的数量，即行数\n",
    "num_nodes = 13  # 节点的数量，这需要根据数据的实际情况填写\n",
    "num_features = 1  # 特征的数量，这也需要根据数据的实际情况填写\n",
    "\n",
    "# 步骤3: 数据重塑\n",
    "# 首先，将DataFrame转换为NumPy数组\n",
    "data_array = df.to_numpy()\n",
    "data_array.shape"
   ],
   "id": "3f2775e6"
  },
  {
   "cell_type": "code",
   "id": "dc2fea46",
   "metadata": {
    "ExecuteTime": {
     "end_time": "2024-10-20T13:41:10.782377Z",
     "start_time": "2024-10-20T13:41:10.755378Z"
    }
   },
   "source": [
    "# 然后，重塑为（时间，节点，特征）的三维结构\n",
    "# reshaped_data = data_array.reshape((num_times, num_nodes, num_features))\n",
    "reshaped_data = data_array.reshape((num_times, num_nodes, num_features), order='F') # 按列的顺序重塑\n",
    "\n",
    "# 步骤4: 保存为.npy文件\n",
    "npy_file_path = 'F:/AAA/STGODE/data/EIA24/EIA24.npy'\n",
    "np.save(npy_file_path, reshaped_data)\n",
    "\n",
    "print(f\"转换后的文件已保存为：{npy_file_path}\")\n",
    "\n",
    "print(reshaped_data.shape)\n"
   ],
   "outputs": [
    {
     "name": "stdout",
     "output_type": "stream",
     "text": [
      "转换后的文件已保存为：F:/AAA/STGODE/data/EIA24/EIA24.npy\n",
      "(50736, 13, 1)\n"
     ]
    }
   ],
   "execution_count": 2
  },
  {
   "cell_type": "code",
   "id": "2d2b24df",
   "metadata": {
    "ExecuteTime": {
     "end_time": "2024-10-14T06:52:28.546423Z",
     "start_time": "2024-10-14T06:52:28.531421Z"
    }
   },
   "source": [
    "print(reshaped_data[0,0,:])\n",
    "print(reshaped_data[0,0,:].shape)"
   ],
   "outputs": [
    {
     "name": "stdout",
     "output_type": "stream",
     "text": [
      "[38210.]\n",
      "(1,)\n"
     ]
    }
   ],
   "execution_count": 3
  },
  {
   "cell_type": "code",
   "execution_count": null,
   "id": "5ed23d9c",
   "metadata": {},
   "outputs": [],
   "source": []
  },
  {
   "metadata": {},
   "cell_type": "code",
   "outputs": [],
   "execution_count": null,
   "source": [
    "import pandas as pd\n",
    "\n",
    "# 读取Excel文件\n",
    "df = pd.read_excel('F:/AAA/STGODE/data/EIA24/eia/eia.xlsx')\n",
    "\n",
    "# 将空值替换为一个很小的值，例如1e-6\n",
    "df.fillna(value=1e-8, inplace=True)\n",
    "\n",
    "# 保存修改后的DataFrame到新的Excel文件\n",
    "df.to_excel('F:/AAA/STGODE/data/EIA24/eia/eia_filled.xlsx', index=False)"
   ],
   "id": "31de0cff52948956"
  },
  {
   "metadata": {},
   "cell_type": "code",
   "outputs": [],
   "execution_count": null,
   "source": "",
   "id": "33907d935f43e45b"
  },
  {
   "metadata": {},
   "cell_type": "code",
   "outputs": [],
   "execution_count": null,
   "source": "",
   "id": "22d73c5fba675970"
  },
  {
   "metadata": {},
   "cell_type": "code",
   "outputs": [],
   "execution_count": null,
   "source": "",
   "id": "97e229487ae7b153"
  },
  {
   "metadata": {},
   "cell_type": "code",
   "outputs": [],
   "execution_count": null,
   "source": "#EIA24",
   "id": "a83dab7752fcc7ac"
  },
  {
   "metadata": {
    "ExecuteTime": {
     "end_time": "2024-11-06T02:44:16.940353Z",
     "start_time": "2024-11-06T02:44:02.849155Z"
    }
   },
   "cell_type": "code",
   "source": [
    "import numpy as np\n",
    "import pandas as pd\n",
    "\n",
    "# 步骤1: 读取CSV文件\n",
    "csv_file_path = 'F:/AAA/STGODE/data/EIA24/EIA24/EIA24.xlsx'\n",
    "\n",
    "df = pd.read_excel(csv_file_path)\n",
    "\n",
    "# 假设CSV文件的结构是每一行都代表一个时间点的所有节点的数据，\n",
    "# 且每个节点的数据由多个特征组成。需要你提供节点数和特征数。\n",
    "\n",
    "# 只保留后13列\n",
    "df = df.iloc[0:len(df)-72, :]\n",
    "\n",
    "# 步骤2: 确定维度大小\n",
    "num_times = len(df)  # 时间点的数量，即行数\n",
    "num_nodes = 13  # 节点的数量，这需要根据数据的实际情况填写\n",
    "num_features = 1  # 特征的数量，这也需要根据数据的实际情况填写\n",
    "\n",
    "# 步骤3: 数据重塑\n",
    "# 首先，将DataFrame转换为NumPy数组\n",
    "data_array = df.to_numpy()\n",
    "data_array.shape"
   ],
   "id": "b2a34ff1566a95af",
   "outputs": [
    {
     "data": {
      "text/plain": [
       "(76104, 13)"
      ]
     },
     "execution_count": 4,
     "metadata": {},
     "output_type": "execute_result"
    }
   ],
   "execution_count": 4
  },
  {
   "metadata": {
    "ExecuteTime": {
     "end_time": "2024-11-06T02:44:19.984147Z",
     "start_time": "2024-11-06T02:44:19.961138Z"
    }
   },
   "cell_type": "code",
   "source": [
    "# 然后，重塑为（时间，节点，特征）的三维结构\n",
    "# reshaped_data = data_array.reshape((num_times, num_nodes, num_features))\n",
    "reshaped_data = data_array.reshape((num_times, num_nodes, num_features), order='F') # 按列的顺序重塑\n",
    "\n",
    "# 步骤4: 保存为.npy文件\n",
    "npy_file_path = 'F:/AAA/STGODE/data/EIA24/EIA24/data.npy'\n",
    "\n",
    "np.save(npy_file_path, reshaped_data)\n",
    "\n",
    "print(f\"转换后的文件已保存为：{npy_file_path}\")\n",
    "\n",
    "print(reshaped_data.shape)\n"
   ],
   "id": "55e40243796f85b6",
   "outputs": [
    {
     "name": "stdout",
     "output_type": "stream",
     "text": [
      "转换后的文件已保存为：F:/AAA/STGODE/data/EIA24/EIA24/data.npy\n",
      "(76104, 13, 1)\n"
     ]
    }
   ],
   "execution_count": 5
  },
  {
   "metadata": {
    "ExecuteTime": {
     "end_time": "2024-10-24T12:42:20.679013Z",
     "start_time": "2024-10-24T12:42:20.669820Z"
    }
   },
   "cell_type": "code",
   "source": [
    "print(reshaped_data[0,0,:])\n",
    "print(reshaped_data[0,0,:].shape)"
   ],
   "id": "cd5fd817da36d38c",
   "outputs": [
    {
     "name": "stdout",
     "output_type": "stream",
     "text": [
      "[48300.]\n",
      "(1,)\n"
     ]
    }
   ],
   "execution_count": 8
  },
  {
   "metadata": {},
   "cell_type": "code",
   "outputs": [],
   "execution_count": null,
   "source": "",
   "id": "c25bf55445ba679e"
  },
  {
   "metadata": {},
   "cell_type": "code",
   "outputs": [],
   "execution_count": null,
   "source": "",
   "id": "b6c0db664a25460b"
  },
  {
   "metadata": {
    "ExecuteTime": {
     "end_time": "2024-10-31T10:12:55.610360Z",
     "start_time": "2024-10-31T10:11:07.450834Z"
    }
   },
   "cell_type": "code",
   "source": "",
   "id": "327f4e3adccb2a26",
   "outputs": [],
   "execution_count": 3
  },
  {
   "metadata": {},
   "cell_type": "code",
   "outputs": [],
   "execution_count": null,
   "source": "",
   "id": "2306dd8cad6fc98d"
  },
  {
   "metadata": {},
   "cell_type": "code",
   "outputs": [],
   "execution_count": null,
   "source": "",
   "id": "fb75d035d2421419"
  },
  {
   "metadata": {},
   "cell_type": "code",
   "outputs": [],
   "execution_count": null,
   "source": "#EIA24_STL",
   "id": "2cfb7f1835eca1ff"
  },
  {
   "metadata": {
    "ExecuteTime": {
     "end_time": "2024-11-06T02:44:37.647348Z",
     "start_time": "2024-11-06T02:44:22.740748Z"
    }
   },
   "cell_type": "code",
   "source": [
    "import numpy as np\n",
    "import pandas as pd\n",
    "\n",
    "# 步骤1: 读取CSV文件\n",
    "csv_file_path = 'F:/AAA/STGODE/data/EIA24/EIA24_STL/EIA24_STL.xlsx'\n",
    "df = pd.read_excel(csv_file_path)\n",
    "\n",
    "# 假设CSV文件的结构是每一行都代表一个时间点的所有节点的数据，\n",
    "# 且每个节点的数据由多个特征组成。需要你提供节点数和特征数。\n",
    "\n",
    "# 只保留后13列\n",
    "df = df.iloc[0:len(df)-72, :]\n",
    "\n",
    "# 步骤2: 确定维度大小\n",
    "num_times = len(df)  # 时间点的数量，即行数\n",
    "num_nodes = 13  # 节点的数量，这需要根据数据的实际情况填写\n",
    "num_features = 1  # 特征的数量，这也需要根据数据的实际情况填写\n",
    "\n",
    "# 步骤3: 数据重塑\n",
    "# 首先，将DataFrame转换为NumPy数组\n",
    "data_array = df.to_numpy()\n",
    "data_array.shape"
   ],
   "id": "e190d8b246d13d54",
   "outputs": [
    {
     "data": {
      "text/plain": [
       "(76104, 13)"
      ]
     },
     "execution_count": 6,
     "metadata": {},
     "output_type": "execute_result"
    }
   ],
   "execution_count": 6
  },
  {
   "metadata": {
    "ExecuteTime": {
     "end_time": "2024-11-06T02:44:37.805384Z",
     "start_time": "2024-11-06T02:44:37.728355Z"
    }
   },
   "cell_type": "code",
   "source": [
    "# 然后，重塑为（时间，节点，特征）的三维结构\n",
    "# reshaped_data = data_array.reshape((num_times, num_nodes, num_features))\n",
    "reshaped_data = data_array.reshape((num_times, num_nodes, num_features), order='F') # 按列的顺序重塑\n",
    "\n",
    "# 步骤4: 保存为.npy文件\n",
    "npy_file_path = 'F:/AAA/STGODE/data/EIA24/EIA24_STL/data.npy'\n",
    "np.save(npy_file_path, reshaped_data)\n",
    "\n",
    "print(f\"转换后的文件已保存为：{npy_file_path}\")\n",
    "\n",
    "print(reshaped_data.shape)\n"
   ],
   "id": "da04c051ecd6c830",
   "outputs": [
    {
     "name": "stdout",
     "output_type": "stream",
     "text": [
      "转换后的文件已保存为：F:/AAA/STGODE/data/EIA24/EIA24_STL/data.npy\n",
      "(76104, 13, 1)\n"
     ]
    }
   ],
   "execution_count": 7
  },
  {
   "metadata": {},
   "cell_type": "code",
   "outputs": [],
   "execution_count": null,
   "source": "",
   "id": "5f17ff1c434cfd4b"
  },
  {
   "metadata": {},
   "cell_type": "code",
   "outputs": [],
   "execution_count": null,
   "source": "",
   "id": "6b9280978a360d1e"
  },
  {
   "metadata": {},
   "cell_type": "code",
   "outputs": [],
   "execution_count": null,
   "source": "",
   "id": "b3e15b2cf4da4833"
  },
  {
   "metadata": {},
   "cell_type": "code",
   "outputs": [],
   "execution_count": null,
   "source": "",
   "id": "11fca9a70462ef7e"
  },
  {
   "metadata": {},
   "cell_type": "code",
   "outputs": [],
   "execution_count": null,
   "source": "#纽约",
   "id": "d236fa2293abab68"
  },
  {
   "metadata": {
    "ExecuteTime": {
     "end_time": "2024-10-21T09:57:04.861604Z",
     "start_time": "2024-10-21T09:57:01.870485Z"
    }
   },
   "cell_type": "code",
   "source": [
    "import numpy as np\n",
    "import pandas as pd\n",
    "\n",
    "# 步骤1: 读取CSV文件\n",
    "csv_file_path = 'F:/AAA/STGODE/data/纽约/processed_data2.csv'\n",
    "df = pd.read_csv(csv_file_path)\n",
    "\n",
    "# 假设CSV文件的结构是每一行都代表一个时间点的所有节点的数据，\n",
    "# 且每个节点的数据由多个特征组成。需要你提供节点数和特征数。\n",
    "\n",
    "\n",
    "# 只保留后11列\n",
    "df = df.iloc[0:len(df)-579, -11:]\n",
    "\n",
    "# 步骤2: 确定维度大小\n",
    "num_times = len(df)  # 时间点的数量，即行数\n",
    "num_nodes = 11  # 节点的数量，这需要根据数据的实际情况填写\n",
    "num_features = 1  # 特征的数量，这也需要根据数据的实际情况填写\n",
    "\n",
    "# 步骤3: 数据重塑\n",
    "# 首先，将DataFrame转换为NumPy数组\n",
    "data_array = df.to_numpy()\n",
    "data_array.shape"
   ],
   "id": "5f471f3708cb9ad2",
   "outputs": [
    {
     "data": {
      "text/plain": [
       "(467712, 11)"
      ]
     },
     "execution_count": 1,
     "metadata": {},
     "output_type": "execute_result"
    }
   ],
   "execution_count": 1
  },
  {
   "metadata": {
    "ExecuteTime": {
     "end_time": "2024-10-21T09:57:07.994697Z",
     "start_time": "2024-10-21T09:57:07.753788Z"
    }
   },
   "cell_type": "code",
   "source": [
    "# 然后，重塑为（时间，节点，特征）的三维结构\n",
    "# reshaped_data = data_array.reshape((num_times, num_nodes, num_features))\n",
    "reshaped_data = data_array.reshape((num_times, num_nodes, num_features), order='F') # 按列的顺序重塑\n",
    "\n",
    "# 步骤4: 保存为.npy文件\n",
    "npy_file_path = 'F:/AAA/STGODE/data/纽约/data.npy'\n",
    "np.save(npy_file_path, reshaped_data)\n",
    "\n",
    "print(f\"转换后的文件已保存为：{npy_file_path}\")\n",
    "\n",
    "print(reshaped_data.shape)\n"
   ],
   "id": "21a0b5e0cb816d3",
   "outputs": [
    {
     "name": "stdout",
     "output_type": "stream",
     "text": [
      "转换后的文件已保存为：F:/AAA/STGODE/data/纽约/processed_data.npy\n",
      "(467712, 11, 1)\n"
     ]
    }
   ],
   "execution_count": 2
  },
  {
   "metadata": {},
   "cell_type": "code",
   "outputs": [],
   "execution_count": null,
   "source": "",
   "id": "e9a4bd6532195245"
  },
  {
   "metadata": {},
   "cell_type": "code",
   "outputs": [],
   "execution_count": null,
   "source": "",
   "id": "20a6fbc5f304f77d"
  },
  {
   "metadata": {},
   "cell_type": "code",
   "outputs": [],
   "execution_count": null,
   "source": "#纽约_STL",
   "id": "e0c8dde377803f55"
  },
  {
   "metadata": {
    "ExecuteTime": {
     "end_time": "2024-10-29T10:26:12.286853Z",
     "start_time": "2024-10-29T10:26:04.626981Z"
    }
   },
   "cell_type": "code",
   "source": [
    "import numpy as np\n",
    "import pandas as pd\n",
    "\n",
    "# 步骤1: 读取CSV文件\n",
    "csv_file_path = 'F:/AAA/STGODE/data/纽约/newyork_STL/newyork_STL.csv'\n",
    "df = pd.read_csv(csv_file_path)\n",
    "\n",
    "# 假设CSV文件的结构是每一行都代表一个时间点的所有节点的数据，\n",
    "# 且每个节点的数据由多个特征组成。需要你提供节点数和特征数。\n",
    "\n",
    "\n",
    "# 只保留后11列\n",
    "df = df.iloc[0:len(df)-579, :]\n",
    "\n",
    "# 步骤2: 确定维度大小\n",
    "num_times = len(df)  # 时间点的数量，即行数\n",
    "num_nodes = 11  # 节点的数量，这需要根据数据的实际情况填写\n",
    "num_features = 1  # 特征的数量，这也需要根据数据的实际情况填写\n",
    "\n",
    "# 步骤3: 数据重塑\n",
    "# 首先，将DataFrame转换为NumPy数组\n",
    "data_array = df.to_numpy()\n",
    "data_array.shape"
   ],
   "id": "d9b709e92274f9a8",
   "outputs": [
    {
     "data": {
      "text/plain": [
       "(467712, 11)"
      ]
     },
     "execution_count": 1,
     "metadata": {},
     "output_type": "execute_result"
    }
   ],
   "execution_count": 1
  },
  {
   "metadata": {
    "ExecuteTime": {
     "end_time": "2024-10-29T10:37:51.224935Z",
     "start_time": "2024-10-29T10:37:50.940868Z"
    }
   },
   "cell_type": "code",
   "source": [
    "# 然后，重塑为（时间，节点，特征）的三维结构\n",
    "# reshaped_data = data_array.reshape((num_times, num_nodes, num_features))\n",
    "reshaped_data = data_array.reshape((num_times, num_nodes, num_features), order='F') # 按列的顺序重塑\n",
    "\n",
    "# 步骤4: 保存为.npy文件\n",
    "npy_file_path = 'F:/AAA/STGODE/data/纽约/newyork_STL/data.npy'\n",
    "np.save(npy_file_path, reshaped_data)\n",
    "\n",
    "print(f\"转换后的文件已保存为：{npy_file_path}\")\n",
    "\n",
    "print(reshaped_data.shape)\n"
   ],
   "id": "df8b3ac70c07b22f",
   "outputs": [
    {
     "name": "stdout",
     "output_type": "stream",
     "text": [
      "转换后的文件已保存为：F:/AAA/STGODE/data/纽约/newyork_STL/data.npy\n",
      "(467712, 11, 1)\n"
     ]
    }
   ],
   "execution_count": 2
  },
  {
   "metadata": {},
   "cell_type": "code",
   "outputs": [],
   "execution_count": null,
   "source": "",
   "id": "5fb0bb47817ea006"
  },
  {
   "metadata": {},
   "cell_type": "code",
   "outputs": [],
   "execution_count": null,
   "source": "#pems04",
   "id": "131af04dad1a0258"
  },
  {
   "metadata": {
    "ExecuteTime": {
     "end_time": "2024-10-26T08:28:40.033484Z",
     "start_time": "2024-10-26T08:28:39.528371Z"
    }
   },
   "cell_type": "code",
   "source": [
    "import numpy as np\n",
    "import pandas as pd\n",
    "\n",
    "# 步骤1: 读取CSV文件\n",
    "csv_file_path = 'F:/AAA/STGODE/data/PEMS04/output222.csv'\n",
    "df = pd.read_csv(csv_file_path)\n",
    "\n",
    "# 假设CSV文件的结构是每一行都代表一个时间点的所有节点的数据，\n",
    "# 且每个节点的数据由多个特征组成。需要你提供节点数和特征数。\n",
    "\n",
    "\n",
    "# 只保留后11列\n",
    "df = df.iloc[0:len(df)-864, :]\n",
    "\n",
    "# 步骤2: 确定维度大小\n",
    "num_times = len(df)  # 时间点的数量，即行数\n",
    "num_nodes = 307  # 节点的数量，这需要根据数据的实际情况填写\n",
    "num_features = 1  # 特征的数量，这也需要根据数据的实际情况填写\n",
    "\n",
    "# 步骤3: 数据重塑\n",
    "# 首先，将DataFrame转换为NumPy数组\n",
    "data_array = df.to_numpy()\n",
    "data_array.shape"
   ],
   "id": "a314722850437de6",
   "outputs": [
    {
     "data": {
      "text/plain": [
       "(16128, 307)"
      ]
     },
     "execution_count": 11,
     "metadata": {},
     "output_type": "execute_result"
    }
   ],
   "execution_count": 11
  },
  {
   "metadata": {
    "ExecuteTime": {
     "end_time": "2024-10-26T08:28:41.837897Z",
     "start_time": "2024-10-26T08:28:41.567836Z"
    }
   },
   "cell_type": "code",
   "source": [
    "# 然后，重塑为（时间，节点，特征）的三维结构\n",
    "# reshaped_data = data_array.reshape((num_times, num_nodes, num_features))\n",
    "reshaped_data = data_array.reshape((num_times, num_nodes, num_features), order='F') # 按列的顺序重塑\n",
    "\n",
    "# 步骤4: 保存为.npy文件\n",
    "npy_file_path = 'F:/AAA/STGODE/data/PEMS04/data.npy'\n",
    "np.save(npy_file_path, reshaped_data)\n",
    "\n",
    "print(f\"转换后的文件已保存为：{npy_file_path}\")\n",
    "\n",
    "print(reshaped_data.shape)\n"
   ],
   "id": "e6aca76761c02c8d",
   "outputs": [
    {
     "name": "stdout",
     "output_type": "stream",
     "text": [
      "转换后的文件已保存为：F:/AAA/STGODE/data/PEMS04/data.npy\n",
      "(16128, 307, 1)\n"
     ]
    }
   ],
   "execution_count": 12
  },
  {
   "metadata": {},
   "cell_type": "code",
   "outputs": [],
   "execution_count": null,
   "source": "",
   "id": "bd0702d33c852d36"
  },
  {
   "metadata": {},
   "cell_type": "code",
   "outputs": [],
   "execution_count": null,
   "source": "#pems04_STL",
   "id": "1bedff83ef81a60c"
  },
  {
   "metadata": {
    "ExecuteTime": {
     "end_time": "2024-10-27T03:24:49.688932Z",
     "start_time": "2024-10-27T03:24:49.123799Z"
    }
   },
   "cell_type": "code",
   "source": [
    "import numpy as np\n",
    "import pandas as pd\n",
    "\n",
    "# 步骤1: 读取CSV文件\n",
    "csv_file_path = 'F:/AAA/STGODE/data/PEMS04/PEMS04_STL/PEMS04_STL.csv'\n",
    "df = pd.read_csv(csv_file_path)\n",
    "\n",
    "# 假设CSV文件的结构是每一行都代表一个时间点的所有节点的数据，\n",
    "# 且每个节点的数据由多个特征组成。需要你提供节点数和特征数。\n",
    "\n",
    "\n",
    "# 只保留后11列\n",
    "df = df.iloc[0:len(df)-864, :]\n",
    "\n",
    "# 步骤2: 确定维度大小\n",
    "num_times = len(df)  # 时间点的数量，即行数\n",
    "num_nodes = 307  # 节点的数量，这需要根据数据的实际情况填写\n",
    "num_features = 1  # 特征的数量，这也需要根据数据的实际情况填写\n",
    "\n",
    "# 步骤3: 数据重塑\n",
    "# 首先，将DataFrame转换为NumPy数组\n",
    "data_array = df.to_numpy()\n",
    "data_array.shape"
   ],
   "id": "e8c5cd774f175145",
   "outputs": [
    {
     "data": {
      "text/plain": [
       "(16128, 307)"
      ]
     },
     "execution_count": 14,
     "metadata": {},
     "output_type": "execute_result"
    }
   ],
   "execution_count": 14
  },
  {
   "metadata": {
    "ExecuteTime": {
     "end_time": "2024-10-27T03:24:51.781407Z",
     "start_time": "2024-10-27T03:24:51.488342Z"
    }
   },
   "cell_type": "code",
   "source": [
    "# 然后，重塑为（时间，节点，特征）的三维结构\n",
    "# reshaped_data = data_array.reshape((num_times, num_nodes, num_features))\n",
    "reshaped_data = data_array.reshape((num_times, num_nodes, num_features), order='F') # 按列的顺序重塑\n",
    "\n",
    "# 步骤4: 保存为.npy文件\n",
    "npy_file_path = 'F:/AAA/STGODE/data/PEMS04/PEMS04_STL/data.npy'\n",
    "np.save(npy_file_path, reshaped_data)\n",
    "\n",
    "print(f\"转换后的文件已保存为：{npy_file_path}\")\n",
    "\n",
    "print(reshaped_data.shape)\n"
   ],
   "id": "72694fa3a3666485",
   "outputs": [
    {
     "name": "stdout",
     "output_type": "stream",
     "text": [
      "转换后的文件已保存为：F:/AAA/STGODE/data/PEMS04/PEMS04_STL/data.npy\n",
      "(16128, 307, 1)\n"
     ]
    }
   ],
   "execution_count": 15
  }
 ],
 "metadata": {
  "kernelspec": {
   "display_name": "Python 3",
   "language": "python",
   "name": "python3"
  },
  "language_info": {
   "codemirror_mode": {
    "name": "ipython",
    "version": 3
   },
   "file_extension": ".py",
   "mimetype": "text/x-python",
   "name": "python",
   "nbconvert_exporter": "python",
   "pygments_lexer": "ipython3",
   "version": "3.8.8"
  }
 },
 "nbformat": 4,
 "nbformat_minor": 5
}
